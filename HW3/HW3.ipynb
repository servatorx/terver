{
 "cells": [
  {
   "cell_type": "markdown",
   "metadata": {},
   "source": [
    "__1.__ Найти собственные векторы и собственные значения для линейного оператора, заданного матрицей\n",
    "\n",
    "### $$A=\\begin{pmatrix}\n",
    "-1 & -6\\\\ \n",
    "2 & 6\n",
    "\\end{pmatrix}.$$"
   ]
  },
  {
   "cell_type": "markdown",
   "metadata": {},
   "source": [
    "Собственные значения.\n",
    " $$\\begin{pmatrix}\n",
    "-1-\\lambda & -6\\\\ \n",
    "2 & 6-\\lambda\n",
    "\\end{pmatrix}=0$$\n",
    "$$(-1-\\lambda)*(6-\\lambda)-2 * (-6) = 0$$\n"
   ]
  },
  {
   "cell_type": "markdown",
   "metadata": {},
   "source": [
    "$$\\lambda^{2}-5\\cdot\\lambda+6=0$$<br>\n",
    "$$D=(-5)^2-4*1*6=25-24=1.$$\n",
    "$$\\lambda_1 = (5 - 1)/2 = 2$$\n",
    "$$\\lambda_2 = (5 + 1)/2 = 3$$\n",
    "\n",
    "Собственные векторы:\n",
    "$$\\begin{pmatrix}\n",
    "-1 & -6\\\\ \n",
    "2 & 6\n",
    "\\end{pmatrix} * \\begin{pmatrix}\n",
    "x_1\\\\ \n",
    "x_2\n",
    "\\end{pmatrix}=2*\\begin{pmatrix}\n",
    "x_1\\\\ \n",
    "x_2\n",
    "\\end{pmatrix}$$\n",
    "\n",
    "$$-x_1-6x_2=2x_1$$\n",
    "$$2x_1+6x_2=2x_2$$\n",
    "\n",
    "$$-6x_2=3x_1$$\n",
    "$$2x_1=-4x_2$$\n",
    "\n",
    "$$x_1=-2x_2$$\n",
    "взяв $$x_2 = 1$$ получим $$x_1 = -2,$$ соответственно вектор $$(-2,1)$$\n"
   ]
  },
  {
   "cell_type": "markdown",
   "metadata": {},
   "source": [
    "Для второго лямбда:\n",
    "$$\\begin{pmatrix}\n",
    "-1 & -6\\\\ \n",
    "2 & 6\n",
    "\\end{pmatrix} * \\begin{pmatrix}\n",
    "x_1\\\\ \n",
    "x_2\n",
    "\\end{pmatrix}=3*\\begin{pmatrix}\n",
    "x_1\\\\ \n",
    "x_2\n",
    "\\end{pmatrix}$$\n",
    "\n",
    "$$-x_1-6x_2=3x_1$$\n",
    "$$2x_1+6x_2=3x_2$$\n",
    "\n",
    "$$-4x_1=6x_2$$\n",
    "$$2x_1=-3x_2$$\n",
    "\n",
    "$$2x_1=-3x_2$$\n",
    "взяв $$x_2 = 4$$ получим $$x_1 = -6,$$ соответственно вектор для лямбда = 3 $$(-6,4)$$\n"
   ]
  },
  {
   "cell_type": "markdown",
   "metadata": {},
   "source": [
    "__2.__ Дан оператор поворота на 180 градусов, задаваемый матрицей \n",
    "\n",
    "$$A=\\begin{pmatrix}\n",
    "-1 & 0\\\\ \n",
    "0 & -1\n",
    "\\end{pmatrix}.$$\n",
    "\n",
    "Показать, что __любой__ вектор является для него собственным."
   ]
  },
  {
   "cell_type": "markdown",
   "metadata": {},
   "source": [
    "Собственные значения.\n",
    " $$\\begin{pmatrix}\n",
    "-1-\\lambda & 0\\\\ \n",
    "0 & 1-\\lambda\n",
    "\\end{pmatrix}=0$$\n",
    "$$(-1-\\lambda)*(-1-\\lambda) = 0$$\n",
    "\n",
    "$$\\lambda^{2}-2\\lambda+1=0$$<br>\n",
    "$$D=0$$\n",
    "$$\\lambda = -1$$\n"
   ]
  },
  {
   "cell_type": "markdown",
   "metadata": {},
   "source": [
    "Собственный вектор:\n",
    "$$\\begin{pmatrix}\n",
    "-1 & 0\\\\ \n",
    "0 & -1\n",
    "\\end{pmatrix} * \\begin{pmatrix}\n",
    "x_1\\\\ \n",
    "x_2\n",
    "\\end{pmatrix}=\\lambda*\\begin{pmatrix}\n",
    "x_1\\\\ \n",
    "x_2\n",
    "\\end{pmatrix}$$\n",
    "\n",
    "$$-x_1=\\lambda x_1$$\n",
    "$$-x_2=\\lambda x_2$$\n",
    "\n",
    "При найденном лямбда = -1:\n",
    "$$-x_1=-x_1$$\n",
    "$$-x_2=-x_2$$\n",
    "\n",
    "Видно, что x_1 и x_2 - могут быть любыми."
   ]
  },
  {
   "cell_type": "markdown",
   "metadata": {},
   "source": [
    "__3.__ Пусть линейный оператор задан матрицей\n",
    "\n",
    "$$A=\\begin{pmatrix}\n",
    "1 & 1\\\\ \n",
    "-1 & 3\n",
    "\\end{pmatrix}.$$\n",
    "\n",
    "Установить, является ли вектор $x=(1,1)$ собственным вектором этого линейного оператора."
   ]
  },
  {
   "cell_type": "markdown",
   "metadata": {},
   "source": [
    "Используя данный собственный вектор (1,1) находим лямбда:\n",
    "$$\\begin{pmatrix}\n",
    "1 & 1\\\\ \n",
    "-1 & 3\n",
    "\\end{pmatrix} * \\begin{pmatrix}\n",
    "1\\\\ \n",
    "1\n",
    "\\end{pmatrix}=\\lambda*\\begin{pmatrix}\n",
    "1\\\\ \n",
    "1\n",
    "\\end{pmatrix}$$"
   ]
  },
  {
   "cell_type": "markdown",
   "metadata": {},
   "source": [
    "$$1+1=1*\\lambda$$\n",
    "$$-1+3=1*\\lambda$$"
   ]
  },
  {
   "cell_type": "markdown",
   "metadata": {},
   "source": [
    "$\\lambda = 2$ в обоих случаях, значит вектор (1,1) является собственным"
   ]
  },
  {
   "cell_type": "markdown",
   "metadata": {},
   "source": [
    "__4.__ Пусть линейный оператор задан матрицей\n",
    "\n",
    "### $$A=\\begin{pmatrix}\n",
    "0 & 3 & 0\\\\ \n",
    "3 & 0 & 0\\\\\n",
    "0 & 0 & 3\n",
    "\\end{pmatrix}.$$\n",
    "\n",
    "Установить, является ли вектор $x=(3, -3, -4)$ собственным вектором этого линейного оператора."
   ]
  },
  {
   "cell_type": "markdown",
   "metadata": {},
   "source": [
    "Используя данный данный собственный вектор (3,-3,-4) находим лямбда: \n",
    "$$\\begin{pmatrix}\n",
    "0 & 3 & 0\\\\ \n",
    "3 & 0 & 0\\\\\n",
    "0 & 0 &3\n",
    "\\end{pmatrix}\n",
    "\\begin{pmatrix}\n",
    "3\\\\ \n",
    "-3\\\\\n",
    "-4\n",
    "\\end{pmatrix}=\n",
    "\\lambda\n",
    "\\begin{pmatrix}\n",
    "3\\\\ \n",
    "-3\\\\\n",
    "-4\n",
    "\\end{pmatrix}.\n",
    "$$"
   ]
  },
  {
   "cell_type": "markdown",
   "metadata": {},
   "source": [
    "$$-9=3*\\lambda$$\n",
    "$$9=-3*\\lambda$$\n",
    "$$-12=-4*\\lambda$$"
   ]
  },
  {
   "cell_type": "markdown",
   "metadata": {},
   "source": [
    "в первых двух случаях $\\lambda = 3, в третьем -3, из этого следует, что вектор не собственный"
   ]
  }
 ],
 "metadata": {
  "kernelspec": {
   "display_name": "Python 3",
   "language": "python",
   "name": "python3"
  },
  "language_info": {
   "codemirror_mode": {
    "name": "ipython",
    "version": 3
   },
   "file_extension": ".py",
   "mimetype": "text/x-python",
   "name": "python",
   "nbconvert_exporter": "python",
   "pygments_lexer": "ipython3",
   "version": "3.7.4"
  }
 },
 "nbformat": 4,
 "nbformat_minor": 2
}
